{
 "cells": [
  {
   "cell_type": "code",
   "execution_count": 1,
   "metadata": {},
   "outputs": [],
   "source": [
    "from shacl_integration_app.repository.models import *"
   ]
  },
  {
   "cell_type": "code",
   "execution_count": 2,
   "metadata": {},
   "outputs": [],
   "source": [
    "axioma : Axiom = Axiom(\"Axioma\", \"A\")\n",
    "axioma_b : Axiom = Axiom(\"Axioma\", \"B\")\n",
    "axioma_c : Axiom = Axiom(\"Axioma\", \"C\")\n",
    "cluster : Cluster = Cluster(\"Cluster\", ['s', 'p', 'o'])\n",
    "concept_cluster : ConceptCluster = ConceptCluster(\"Concept\", ['s', 'p', 'o'], [axioma, axioma_b, axioma_c], [axioma, axioma_b, axioma_c])"
   ]
  },
  {
   "cell_type": "code",
   "execution_count": 3,
   "metadata": {},
   "outputs": [
    {
     "name": "stdout",
     "output_type": "stream",
     "text": [
      "[Axiom(pred='Axioma', obj='A'), Axiom(pred='Axioma', obj='B'), Axiom(pred='Axioma', obj='C')]\n",
      "concept: Cluster, concept_list: ['s', 'p', 'o'], id: e2af293d-cb54-4af7-b1a7-cfadbf464c63\n",
      "concept: Concept, concept_list: ['s', 'p', 'o'], id: cdadc27a-e3ea-438f-bffd-8fff3d22a92a, node_axiom_cluster_list: [Axiom(pred='Axioma', obj='A'), Axiom(pred='Axioma', obj='B'), Axiom(pred='Axioma', obj='C')], property_axiom_cluster_list: [Axiom(pred='Axioma', obj='A'), Axiom(pred='Axioma', obj='B'), Axiom(pred='Axioma', obj='C')]\n"
     ]
    }
   ],
   "source": [
    "print([axioma, axioma_b, axioma_c])\n",
    "print(cluster)\n",
    "print(concept_cluster)"
   ]
  },
  {
   "cell_type": "code",
   "execution_count": null,
   "metadata": {},
   "outputs": [],
   "source": []
  },
  {
   "cell_type": "code",
   "execution_count": 5,
   "metadata": {},
   "outputs": [],
   "source": [
    "from shacl_integration_app.repository.rule_library import *\n",
    "import shacl_integration_app.service.rule_engine as rule_engine\n",
    "#from service.rule_engine import Fact\n",
    "fact: rule_engine.Fact = rule_engine.Fact(first=3, second=1)"
   ]
  },
  {
   "cell_type": "code",
   "execution_count": 6,
   "metadata": {},
   "outputs": [
    {
     "name": "stdout",
     "output_type": "stream",
     "text": [
      "0.0.1\n"
     ]
    }
   ],
   "source": [
    "print(rule_engine.__version__)"
   ]
  },
  {
   "cell_type": "code",
   "execution_count": 7,
   "metadata": {},
   "outputs": [],
   "source": [
    "rule_library: Rule_Library = Rule_Library()"
   ]
  },
  {
   "cell_type": "code",
   "execution_count": 8,
   "metadata": {},
   "outputs": [
    {
     "name": "stdout",
     "output_type": "stream",
     "text": [
      "[3]\n"
     ]
    }
   ],
   "source": [
    "ret1 = rule_library.unionMaxFirst.evaluate_with_result([fact])\n",
    "ret2 = rule_library.unionMaxSecond.evaluate_with_result([fact])\n",
    "ret3 = rule_library.unionMaxNone.evaluate_with_result([fact])\n",
    "print(ret1)"
   ]
  },
  {
   "cell_type": "code",
   "execution_count": null,
   "metadata": {},
   "outputs": [],
   "source": []
  }
 ],
 "metadata": {
  "kernelspec": {
   "display_name": "Python 3",
   "language": "python",
   "name": "python3"
  },
  "language_info": {
   "codemirror_mode": {
    "name": "ipython",
    "version": 3
   },
   "file_extension": ".py",
   "mimetype": "text/x-python",
   "name": "python",
   "nbconvert_exporter": "python",
   "pygments_lexer": "ipython3",
   "version": "3.12.3"
  }
 },
 "nbformat": 4,
 "nbformat_minor": 2
}
