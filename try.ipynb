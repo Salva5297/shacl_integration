{
 "cells": [
  {
   "cell_type": "code",
   "execution_count": 1,
   "metadata": {},
   "outputs": [],
   "source": [
    "from shacl_integration_app.repository.models import *"
   ]
  },
  {
   "cell_type": "code",
   "execution_count": 2,
   "metadata": {},
   "outputs": [],
   "source": [
    "axioma : Axiom = Axiom(\"Axioma\", \"A\")\n",
    "axioma_b : Axiom = Axiom(\"Axioma\", \"B\")\n",
    "axioma_c : Axiom = Axiom(\"Axioma\", \"C\")\n",
    "cluster = Cluster(\"Cluster\", ['s', 'p', 'o'])\n",
    "concept_cluster : ConceptCluster = ConceptCluster(\"Concept\", ['s', 'p', 'o'], [axioma, axioma_b, axioma_c], [axioma, axioma_b, axioma_c])"
   ]
  },
  {
   "cell_type": "code",
   "execution_count": 3,
   "metadata": {},
   "outputs": [
    {
     "name": "stdout",
     "output_type": "stream",
     "text": [
      "[Axiom(pred='Axioma', obj='A', logical_operator=None, link=None, qualified_value_shape=None), Axiom(pred='Axioma', obj='B', logical_operator=None, link=None, qualified_value_shape=None), Axiom(pred='Axioma', obj='C', logical_operator=None, link=None, qualified_value_shape=None)]\n",
      "concept: Cluster, concept_list: ['s', 'p', 'o'], id: d75dc68bbdd56c9cbd58d4bbdabda84bcca2c47f\n",
      "concept: Concept, concept_list: ['s', 'p', 'o'], id: c05bafdb56031bb64da1f1d1861f60118932c605, node_axiom_cluster_list: [Axiom(pred='Axioma', obj='A', logical_operator=None, link=None, qualified_value_shape=None), Axiom(pred='Axioma', obj='B', logical_operator=None, link=None, qualified_value_shape=None), Axiom(pred='Axioma', obj='C', logical_operator=None, link=None, qualified_value_shape=None)], property_axiom_cluster_list: []\n"
     ]
    }
   ],
   "source": [
    "print([axioma, axioma_b, axioma_c])\n",
    "print(cluster)\n",
    "print(concept_cluster)"
   ]
  },
  {
   "cell_type": "code",
   "execution_count": null,
   "metadata": {},
   "outputs": [],
   "source": []
  },
  {
   "cell_type": "code",
   "execution_count": 4,
   "metadata": {},
   "outputs": [],
   "source": [
    "from shacl_integration_app.repository.rule_library import *\n",
    "import shacl_integration_app.service.rule_engine as rule_engine\n",
    "#from service.rule_engine import Fact\n",
    "fact: rule_engine.Fact = rule_engine.Fact(first=3, second=1)"
   ]
  },
  {
   "cell_type": "code",
   "execution_count": 5,
   "metadata": {},
   "outputs": [
    {
     "name": "stdout",
     "output_type": "stream",
     "text": [
      "0.0.1\n"
     ]
    }
   ],
   "source": [
    "print(rule_engine.__version__)"
   ]
  },
  {
   "cell_type": "code",
   "execution_count": 6,
   "metadata": {},
   "outputs": [],
   "source": [
    "rule_library: Rule_Library = Rule_Library()"
   ]
  },
  {
   "cell_type": "code",
   "execution_count": 7,
   "metadata": {},
   "outputs": [
    {
     "name": "stdout",
     "output_type": "stream",
     "text": [
      "[3]\n"
     ]
    }
   ],
   "source": [
    "ret1 = rule_library.unionMaxFirst.evaluate_with_result([fact])\n",
    "ret2 = rule_library.unionMaxSecond.evaluate_with_result([fact])\n",
    "ret3 = rule_library.unionMaxNone.evaluate_with_result([fact])\n",
    "print(ret1)"
   ]
  },
  {
   "cell_type": "code",
   "execution_count": 8,
   "metadata": {},
   "outputs": [
    {
     "name": "stdout",
     "output_type": "stream",
     "text": [
      "3\n",
      "['oaisufdghoasivfasoiuvf1', 'oaisufdghoasivfasoiuvf2', 'oaisufdghoasivfasoiuvf3']\n"
     ]
    }
   ],
   "source": [
    "logic_constraint = [\"oaisufdghoasivfasoiuvf5\"]\n",
    "counter: int = int(logic_constraint[0][-1]) - 2\n",
    "print(counter)\n",
    "# list comprehension that creates a list containing logic_constraints modifying the last character of the string\n",
    "print([logic_constraint[0][:-1] + str(i) for i in range(1, counter + 1)])"
   ]
  },
  {
   "cell_type": "code",
   "execution_count": 9,
   "metadata": {},
   "outputs": [],
   "source": [
    "example:dict = {\n",
    "    \"axiom_list\": [\n",
    "        [\n",
    "            Axiom(pred='http://www.w3.org/ns/shacl#description',\n",
    "                  obj='System is a unit of abstraction for pieces of infrastructure that implement Procedures. A System may have components, its subsystems, which are other systems.')\n",
    "        ],\n",
    "        [\n",
    "            Axiom(pred='http://www.w3.org/1999/02/22-rdf-syntax-ns#type',\n",
    "                  obj='http://www.w3.org/ns/shacl#NodeShape'),\n",
    "            Axiom(pred='http://www.w3.org/1999/02/22-rdf-syntax-ns#type',\n",
    "                  obj='http://www.w3.org/ns/shacl#NodeShape')\n",
    "        ],\n",
    "        [\n",
    "            Axiom(pred='http://www.w3.org/2000/01/rdf-schema#isDefinedBy',\n",
    "                  obj='http://www.w3.org/ns/ssn/')\n",
    "        ],\n",
    "        [\n",
    "            Axiom(pred='http://www.w3.org/2000/01/rdf-schema#label',\n",
    "                  obj='System')\n",
    "        ],\n",
    "        [\n",
    "            Axiom(pred='http://www.w3.org/ns/shacl#name',\n",
    "                  obj='System')\n",
    "        ],\n",
    "        [\n",
    "            Axiom(pred='http://www.w3.org/ns/shacl#targetClass',\n",
    "                  obj='http://www.w3.org/ns/ssn/System'),\n",
    "            Axiom(pred='http://www.w3.org/ns/shacl#targetClass',\n",
    "                  obj='https://saref.etsi.org/saref4syst/System')\n",
    "        ],\n",
    "        [\n",
    "            Axiom(pred='http://www.w3.org/ns/shacl#nodeKind',\n",
    "                  obj='http://www.w3.org/ns/shacl#IRI')\n",
    "        ]\n",
    "    ],\n",
    "    'axiom_logical_list': [\n",
    "        [\n",
    "            Axiom(pred='http://www.w3.org/ns/shacl#nodeKind',\n",
    "                  obj='http://www.w3.org/ns/shacl#IRI'),\n",
    "            Axiom(pred='http://www.w3.org/ns/shacl#nodeKind',\n",
    "                  obj='http://www.w3.org/ns/shacl#BlankNode'),\n",
    "            Axiom(pred='http://www.w3.org/ns/shacl#nodeKind',\n",
    "                  obj='http://www.w3.org/ns/shacl#BlankNodeOrIRI')\n",
    "        ]\n",
    "    ]\n",
    "}"
   ]
  },
  {
   "cell_type": "code",
   "execution_count": 10,
   "metadata": {},
   "outputs": [
    {
     "name": "stdout",
     "output_type": "stream",
     "text": [
      "[True]\n"
     ]
    }
   ],
   "source": [
    "from shacl_integration_app.repository.rule_library.filter_library import Filter_Library\n",
    "import shacl_integration_app.service.rule_engine as rule_engine\n",
    "\n",
    "filter_library: Filter_Library = Filter_Library()\n",
    "\n",
    "list1 = ['1','3','4','5']\n",
    "list2 = ['3','3']\n",
    "\n",
    "fact: rule_engine.Fact = rule_engine.Fact(minCount=max(list1), maxCount=min(list2))\n",
    "\n",
    "res = filter_library.countFilter.evaluate_with_result([fact])\n",
    "print(res)"
   ]
  },
  {
   "cell_type": "code",
   "execution_count": 11,
   "metadata": {},
   "outputs": [
    {
     "name": "stdout",
     "output_type": "stream",
     "text": [
      "[]\n"
     ]
    }
   ],
   "source": [
    "fact2: rule_engine.Fact = rule_engine.Fact(minInclusive=1, minExclusive=None, maxInclusive=3, maxExclusive=None)\n",
    "\n",
    "res2 = filter_library.rule_multiple.evaluate_multiple_rules_with_result([fact2], filter_library.evaluateInExClusiveFilter)\n",
    "print(res2)"
   ]
  },
  {
   "cell_type": "code",
   "execution_count": 12,
   "metadata": {},
   "outputs": [
    {
     "name": "stdout",
     "output_type": "stream",
     "text": [
      "[True]\n"
     ]
    }
   ],
   "source": [
    "fact3: rule_engine.Fact = rule_engine.Fact(equals='ssn:System', disjoint='ssn:System')\n",
    "\n",
    "res3 = filter_library.equalsDisjointFilter.evaluate_with_result([fact3])\n",
    "\n",
    "print(res3)"
   ]
  },
  {
   "cell_type": "code",
   "execution_count": 13,
   "metadata": {},
   "outputs": [
    {
     "name": "stdout",
     "output_type": "stream",
     "text": [
      "[True]\n"
     ]
    }
   ],
   "source": [
    "fact4: rule_engine.Fact = rule_engine.Fact(closed1=bool('true'), closed2=False)\n",
    "\n",
    "res4 = filter_library.closedFilter.evaluate_with_result([fact4])\n",
    "\n",
    "print(res4)"
   ]
  },
  {
   "cell_type": "code",
   "execution_count": 14,
   "metadata": {},
   "outputs": [
    {
     "name": "stdout",
     "output_type": "stream",
     "text": [
      "[True]\n"
     ]
    }
   ],
   "source": [
    "fact5: rule_engine.Fact = rule_engine.Fact(logical1=['ex:Example', 'ex:Example2'], logical2=['ex:Example', 'ex:Example2', 'ex:Example3'])\n",
    "\n",
    "res5 = filter_library.logicalIntersectionFilter.evaluate_with_result([fact5])\n",
    "\n",
    "print(res5)"
   ]
  },
  {
   "cell_type": "code",
   "execution_count": 15,
   "metadata": {},
   "outputs": [
    {
     "name": "stdout",
     "output_type": "stream",
     "text": [
      "[True]\n",
      "[True]\n"
     ]
    }
   ],
   "source": [
    "fact6: rule_engine.Fact = rule_engine.Fact(uniqueLang1=True, uniqueLang2=False)\n",
    "fact7: rule_engine.Fact = rule_engine.Fact(uniqueLang=True, languageIn=['de', 'es', 'fr'])\n",
    "\n",
    "res6 = filter_library.uniqueLangFilter.evaluate_with_result([fact6])\n",
    "res7 = filter_library.languageInFilter.evaluate_with_result([fact7])\n",
    "\n",
    "print(res6)\n",
    "print(res7)"
   ]
  },
  {
   "cell_type": "code",
   "execution_count": 16,
   "metadata": {},
   "outputs": [
    {
     "name": "stdout",
     "output_type": "stream",
     "text": [
      "[True]\n"
     ]
    }
   ],
   "source": [
    "fact8: rule_engine.Fact = rule_engine.Fact(in1=['ex:Example', 'ex:Example2'], in2=['ex:Example', 'ex:Example2', 'ex:Example3'])\n",
    "\n",
    "res8 = filter_library.inFilter.evaluate_with_result([fact8])\n",
    "\n",
    "print(res8)"
   ]
  },
  {
   "cell_type": "code",
   "execution_count": 17,
   "metadata": {},
   "outputs": [
    {
     "name": "stdout",
     "output_type": "stream",
     "text": [
      "[True]\n",
      "[True]\n"
     ]
    }
   ],
   "source": [
    "fact9: rule_engine.Fact = rule_engine.Fact(nodeKind1='http://www.w3.org/ns/shacl#Literal', nodeKind2='http://www.w3.org/ns/shacl#BlankNode')\n",
    "\n",
    "res9 = filter_library.rule_multiple.evaluate_multiple_rules_with_result([fact9], filter_library.nodeKindUnionFilter)\n",
    "res10 = filter_library.rule_multiple.evaluate_multiple_rules_with_result([fact9], filter_library.nodeKindIntersectionFilter)\n",
    "\n",
    "print(res9)\n",
    "print(res10)"
   ]
  },
  {
   "cell_type": "code",
   "execution_count": 1,
   "metadata": {},
   "outputs": [],
   "source": [
    "from shacl_integration_app.repository.rule_library import *\n",
    "import shacl_integration_app.service.rule_engine as rule_engine\n",
    "rule_library: Rule_Library = Rule_Library()"
   ]
  },
  {
   "cell_type": "code",
   "execution_count": 2,
   "metadata": {},
   "outputs": [
    {
     "name": "stdout",
     "output_type": "stream",
     "text": [
      "[0, 0, 0, 0, 1, 1]\n"
     ]
    }
   ],
   "source": [
    "node_list = ['http://www.w3.org/ns/shacl#BlankNodeOrIRI', 'http://www.w3.org/ns/shacl#BlankNodeOrLiteral']\n",
    "fact10 = rule_engine.Fact(list=node_list)\n",
    "\n",
    "res11 = rule_library.rule_multiple.evaluate_multiple_rules_with_result([fact10], rule_library.integrationNodeKindRules)\n",
    "print(res11)"
   ]
  },
  {
   "cell_type": "code",
   "execution_count": 3,
   "metadata": {},
   "outputs": [],
   "source": [
    "nodeKindDict: dict = {\n",
    "    \"[1, 0, 0, 0, 0, 0]_union\": \"http://www.w3.org/ns/shacl#IRI\",\n",
    "    \"[1, 0, 0, 0, 0, 0]_intersection\": \"http://www.w3.org/ns/shacl#IRI\",\n",
    "    \"[1, 1, 0, 0, 0, 0]_union\": \"http://www.w3.org/ns/shacl#IRIOrLiteral\",\n",
    "    \"[1, 0, 1, 0, 0, 0]_union\": \"http://www.w3.org/ns/shacl#BlankNodeOrIRI\",\n",
    "    \"[1, 0, 0, 1, 0, 0]_union\": \"http://www.w3.org/ns/shacl#IRIOrLiteral\",\n",
    "    \"[1, 0, 0, 1, 0, 0]_intersection\": \"http://www.w3.org/ns/shacl#IRI\",\n",
    "    \"[1, 0, 0, 0, 0, 1]_union\": \"http://www.w3.org/ns/shacl#BlankNodeOrIRI\",\n",
    "    \"[1, 0, 0, 0, 0, 1]_intersection\": \"http://www.w3.org/ns/shacl#IRI\",\n",
    "    \"[1, 1, 0, 1, 0, 0]_union\": \"http://www.w3.org/ns/shacl#IRIOrLiteral\",\n",
    "    \"[1, 1, 0, 1, 0, 0]_intersection\": \"http://www.w3.org/ns/shacl#IRIOrLiteral\",\n",
    "    \"[1, 0, 1, 0, 0, 1]_union\": \"http://www.w3.org/ns/shacl#BlankNodeOrIRI\",\n",
    "    \"[1, 0, 1, 0, 0, 1]_intersection\": \"http://www.w3.org/ns/shacl#BlankNodeOrIRI\",\n",
    "    \"[1, 0, 0, 1, 0, 1]_intersection\": \"http://www.w3.org/ns/shacl#IRI\",\n",
    "    \"[0, 1, 0, 0, 0, 0]_union\": \"http://www.w3.org/ns/shacl#Literal\",\n",
    "    \"[0, 1, 0, 0, 0, 0]_intersection\": \"http://www.w3.org/ns/shacl#Literal\",\n",
    "    \"[0, 1, 1, 0, 0, 0]_union\": \"http://www.w3.org/ns/shacl#BlankNodeOrLiteral\",\n",
    "    \"[0, 1, 0, 1, 0, 0]_union\": \"http://www.w3.org/ns/shacl#IRIOrLiteral\",\n",
    "    \"[0, 1, 0, 1, 0, 0]_intersection\": \"http://www.w3.org/ns/shacl#Literal\",\n",
    "    \"[0, 1, 0, 0, 1, 0]_union\": \"http://www.w3.org/ns/shacl#BlankNodeOrLiteral\",\n",
    "    \"[0, 1, 0, 0, 1, 0]_intersection\": \"http://www.w3.org/ns/shacl#Literal\",\n",
    "    \"[0, 1, 1, 0, 1, 0]_union\": \"http://www.w3.org/ns/shacl#BlankNodeOrLiteral\",\n",
    "    \"[0, 1, 1, 0, 1, 0]_intersection\": \"http://www.w3.org/ns/shacl#BlankNodeOrLiteral\",\n",
    "    \"[0, 1, 0, 1, 1, 0]_intersection\": \"http://www.w3.org/ns/shacl#Literal\",\n",
    "    \"[0, 0, 1, 0, 0, 0]_union\": \"http://www.w3.org/ns/shacl#BlankNode\",\n",
    "    \"[0, 0, 1, 0, 0, 0]_intersection\": \"http://www.w3.org/ns/shacl#BlankNode\",\n",
    "    \"[0, 0, 1, 0, 0, 1]_union\": \"http://www.w3.org/ns/shacl#BlankNodeOrIRI\",\n",
    "    \"[0, 0, 1, 0, 0, 1]_intersection\": \"http://www.w3.org/ns/shacl#BlankNode\",\n",
    "    \"[0, 0, 1, 0, 1, 0]_union\": \"http://www.w3.org/ns/shacl#BlankNodeOrLiteral\",\n",
    "    \"[0, 0, 1, 0, 1, 0]_intersection\": \"http://www.w3.org/ns/shacl#BlankNode\",\n",
    "    \"[0, 0, 1, 0, 1, 1]_intersection\": \"http://www.w3.org/ns/shacl#BlankNode\",\n",
    "    \"[0, 0, 0, 1, 0, 0]_union\": \"http://www.w3.org/ns/shacl#IRIOrLiteral\",\n",
    "    \"[0, 0, 0, 1, 0, 0]_intersection\": \"http://www.w3.org/ns/shacl#IRIOrLiteral\",\n",
    "    \"[0, 0, 0, 1, 0, 1]_intersection\": \"http://www.w3.org/ns/shacl#IRI\",\n",
    "    \"[0, 0, 0, 1, 1, 0]_intersection\": \"http://www.w3.org/ns/shacl#Literal\",\n",
    "    \"[0, 0, 0, 0, 0, 1]_union\": \"http://www.w3.org/ns/shacl#BlankNodeOrIRI\",\n",
    "    \"[0, 0, 0, 0, 0, 1]_intersection\": \"http://www.w3.org/ns/shacl#BlankNodeOrIRI\",\n",
    "    \"[0, 0, 0, 0, 1, 1]_intersection\": \"http://www.w3.org/ns/shacl#BlankNode\",\n",
    "    \"[0, 0, 0, 0, 1, 0]_union\": \"http://www.w3.org/ns/shacl#BlankNodeOrLiteral\",\n",
    "    \"[0, 0, 0, 0, 1, 0]_intersection\": \"http://www.w3.org/ns/shacl#BlankNodeOrLiteral\",\n",
    "}"
   ]
  },
  {
   "cell_type": "code",
   "execution_count": 7,
   "metadata": {},
   "outputs": [
    {
     "data": {
      "text/plain": [
       "'http://www.w3.org/ns/shacl#BlankNode'"
      ]
     },
     "execution_count": 7,
     "metadata": {},
     "output_type": "execute_result"
    }
   ],
   "source": [
    "nodeKindDict[str(res11) + \"_\" + 'intersection']"
   ]
  },
  {
   "cell_type": "code",
   "execution_count": null,
   "metadata": {},
   "outputs": [],
   "source": []
  }
 ],
 "metadata": {
  "kernelspec": {
   "display_name": "Python 3",
   "language": "python",
   "name": "python3"
  },
  "language_info": {
   "codemirror_mode": {
    "name": "ipython",
    "version": 3
   },
   "file_extension": ".py",
   "mimetype": "text/x-python",
   "name": "python",
   "nbconvert_exporter": "python",
   "pygments_lexer": "ipython3",
   "version": "3.12.3"
  }
 },
 "nbformat": 4,
 "nbformat_minor": 2
}
