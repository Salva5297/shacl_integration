{
 "cells": [
  {
   "cell_type": "code",
   "execution_count": 7,
   "metadata": {},
   "outputs": [],
   "source": [
    "from shacl_integration_app.repository.models import *"
   ]
  },
  {
   "cell_type": "code",
   "execution_count": 8,
   "metadata": {},
   "outputs": [],
   "source": [
    "axioma : Axiom = Axiom(\"Axioma\", \"A\")\n",
    "axioma_b : Axiom = Axiom(\"Axioma\", \"B\")\n",
    "axioma_c : Axiom = Axiom(\"Axioma\", \"C\")\n",
    "cluster = Cluster(\"Cluster\", ['s', 'p', 'o'])\n",
    "concept_cluster : ConceptCluster = ConceptCluster(\"Concept\", ['s', 'p', 'o'], [axioma, axioma_b, axioma_c], [axioma, axioma_b, axioma_c])"
   ]
  },
  {
   "cell_type": "code",
   "execution_count": 9,
   "metadata": {},
   "outputs": [
    {
     "name": "stdout",
     "output_type": "stream",
     "text": [
      "[Axiom(pred='Axioma', obj='A'), Axiom(pred='Axioma', obj='B'), Axiom(pred='Axioma', obj='C')]\n",
      "concept: Cluster, concept_list: ['s', 'p', 'o'], id: d75dc68bbdd56c9cbd58d4bbdabda84bcca2c47f\n",
      "concept: Concept, concept_list: ['s', 'p', 'o'], id: c05bafdb56031bb64da1f1d1861f60118932c605, node_axiom_cluster_list: [Axiom(pred='Axioma', obj='A'), Axiom(pred='Axioma', obj='B'), Axiom(pred='Axioma', obj='C')], property_axiom_cluster_list: [Axiom(pred='Axioma', obj='A'), Axiom(pred='Axioma', obj='B'), Axiom(pred='Axioma', obj='C')]\n"
     ]
    }
   ],
   "source": [
    "print([axioma, axioma_b, axioma_c])\n",
    "print(cluster)\n",
    "print(concept_cluster)"
   ]
  },
  {
   "cell_type": "code",
   "execution_count": null,
   "metadata": {},
   "outputs": [],
   "source": []
  },
  {
   "cell_type": "code",
   "execution_count": null,
   "metadata": {},
   "outputs": [],
   "source": [
    "from shacl_integration_app.repository.rule_library import *\n",
    "import shacl_integration_app.service.rule_engine as rule_engine\n",
    "#from service.rule_engine import Fact\n",
    "fact: rule_engine.Fact = rule_engine.Fact(first=3, second=1)"
   ]
  },
  {
   "cell_type": "code",
   "execution_count": null,
   "metadata": {},
   "outputs": [
    {
     "name": "stdout",
     "output_type": "stream",
     "text": [
      "0.0.1\n"
     ]
    }
   ],
   "source": [
    "print(rule_engine.__version__)"
   ]
  },
  {
   "cell_type": "code",
   "execution_count": null,
   "metadata": {},
   "outputs": [],
   "source": [
    "rule_library: Rule_Library = Rule_Library()"
   ]
  },
  {
   "cell_type": "code",
   "execution_count": null,
   "metadata": {},
   "outputs": [
    {
     "name": "stdout",
     "output_type": "stream",
     "text": [
      "[3]\n"
     ]
    }
   ],
   "source": [
    "ret1 = rule_library.unionMaxFirst.evaluate_with_result([fact])\n",
    "ret2 = rule_library.unionMaxSecond.evaluate_with_result([fact])\n",
    "ret3 = rule_library.unionMaxNone.evaluate_with_result([fact])\n",
    "print(ret1)"
   ]
  },
  {
   "cell_type": "code",
   "execution_count": 6,
   "metadata": {},
   "outputs": [
    {
     "name": "stdout",
     "output_type": "stream",
     "text": [
      "3\n",
      "['oaisufdghoasivfasoiuvf1', 'oaisufdghoasivfasoiuvf2', 'oaisufdghoasivfasoiuvf3']\n"
     ]
    }
   ],
   "source": [
    "logic_constraint = [\"oaisufdghoasivfasoiuvf5\"]\n",
    "counter: int = int(logic_constraint[0][-1]) - 2\n",
    "print(counter)\n",
    "# list comprehension that creates a list containing logic_constraints modifying the last character of the string\n",
    "print([logic_constraint[0][:-1] + str(i) for i in range(1, counter + 1)])"
   ]
  },
  {
   "cell_type": "code",
   "execution_count": null,
   "metadata": {},
   "outputs": [],
   "source": [
    "example:dict = {\n",
    "    \"axiom_list\": [\n",
    "        [\n",
    "            Axiom(pred='http://www.w3.org/ns/shacl#description',\n",
    "                  obj='System is a unit of abstraction for pieces of infrastructure that implement Procedures. A System may have components, its subsystems, which are other systems.')\n",
    "        ],\n",
    "        [\n",
    "            Axiom(pred='http://www.w3.org/1999/02/22-rdf-syntax-ns#type',\n",
    "                  obj='http://www.w3.org/ns/shacl#NodeShape'),\n",
    "            Axiom(pred='http://www.w3.org/1999/02/22-rdf-syntax-ns#type',\n",
    "                  obj='http://www.w3.org/ns/shacl#NodeShape')\n",
    "        ],\n",
    "        [\n",
    "            Axiom(pred='http://www.w3.org/2000/01/rdf-schema#isDefinedBy',\n",
    "                  obj='http://www.w3.org/ns/ssn/')\n",
    "        ],\n",
    "        [\n",
    "            Axiom(pred='http://www.w3.org/2000/01/rdf-schema#label',\n",
    "                  obj='System')\n",
    "        ],\n",
    "        [\n",
    "            Axiom(pred='http://www.w3.org/ns/shacl#name',\n",
    "                  obj='System')\n",
    "        ],\n",
    "        [\n",
    "            Axiom(pred='http://www.w3.org/ns/shacl#targetClass',\n",
    "                  obj='http://www.w3.org/ns/ssn/System'),\n",
    "            Axiom(pred='http://www.w3.org/ns/shacl#targetClass',\n",
    "                  obj='https://saref.etsi.org/saref4syst/System')\n",
    "        ],\n",
    "        [\n",
    "            Axiom(pred='http://www.w3.org/ns/shacl#nodeKind',\n",
    "                  obj='http://www.w3.org/ns/shacl#IRI')\n",
    "        ]\n",
    "    ],\n",
    "    'axiom_logical_list': [\n",
    "        [\n",
    "            Axiom(pred='http://www.w3.org/ns/shacl#nodeKind',\n",
    "                  obj='http://www.w3.org/ns/shacl#IRI'),\n",
    "            Axiom(pred='http://www.w3.org/ns/shacl#nodeKind',\n",
    "                  obj='http://www.w3.org/ns/shacl#BlankNode'),\n",
    "            Axiom(pred='http://www.w3.org/ns/shacl#nodeKind',\n",
    "                  obj='http://www.w3.org/ns/shacl#BlankNodeOrIRI')\n",
    "        ]\n",
    "    ]\n",
    "}"
   ]
  }
 ],
 "metadata": {
  "kernelspec": {
   "display_name": "Python 3",
   "language": "python",
   "name": "python3"
  },
  "language_info": {
   "codemirror_mode": {
    "name": "ipython",
    "version": 3
   },
   "file_extension": ".py",
   "mimetype": "text/x-python",
   "name": "python",
   "nbconvert_exporter": "python",
   "pygments_lexer": "ipython3",
   "version": "3.12.3"
  }
 },
 "nbformat": 4,
 "nbformat_minor": 2
}
