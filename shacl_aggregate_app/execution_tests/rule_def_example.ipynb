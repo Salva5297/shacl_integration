{
 "cells": [
  {
   "cell_type": "code",
   "execution_count": 4,
   "metadata": {},
   "outputs": [],
   "source": [
    "import sys\n",
    "# caution: path[0] is reserved for script path (or '' in REPL)\n",
    "sys.path.insert(1, '../')"
   ]
  },
  {
   "cell_type": "code",
   "execution_count": 5,
   "metadata": {},
   "outputs": [
    {
     "data": {
      "text/plain": [
       "'/Users/salva/ownCloud/Thesis/THESIS_CODE/SHACL-AGGREGATE/shacl_aggregate_app/execution_tests'"
      ]
     },
     "execution_count": 5,
     "metadata": {},
     "output_type": "execute_result"
    }
   ],
   "source": [
    "pwd = sys.path[0]\n",
    "pwd"
   ]
  },
  {
   "cell_type": "code",
   "execution_count": 6,
   "metadata": {},
   "outputs": [],
   "source": [
    "from service.rule_engine.fact import Fact\n",
    "from service.rule_engine.rule import Rule\n",
    "from service.rule_engine.condition import Condition\n",
    "from service.rule_engine.action import Action"
   ]
  },
  {
   "cell_type": "code",
   "execution_count": 7,
   "metadata": {},
   "outputs": [],
   "source": [
    "age_cond = Condition(name=\"Age>=21\", evaluation_function=lambda fact: fact.age >= 21)\n",
    "occupation_cond = Condition(name=\"Occupation==Software Developer\", evaluation_function=lambda fact: fact.occupation == \"Software Developer\")"
   ]
  },
  {
   "cell_type": "code",
   "execution_count": 8,
   "metadata": {},
   "outputs": [],
   "source": [
    "print_action = Action(name=\"Print Fact\", execution_function=lambda fact: print(\"Name: {} Age: {} Occupation: {}\".format(fact.name, fact.age, fact.occupation)))"
   ]
  },
  {
   "cell_type": "code",
   "execution_count": 9,
   "metadata": {},
   "outputs": [],
   "source": [
    "john = Fact(age=18,name=\"John Brown\", occupation=\"Software Developer\")\n",
    "sarah = Fact(age=35,name=\"Sarah Purple\", occupation=\"Data Engineer\")\n",
    "barry = Fact(age=27, name=\"Barry White\", occupation=\"Software Developer\")"
   ]
  },
  {
   "cell_type": "code",
   "execution_count": 10,
   "metadata": {},
   "outputs": [],
   "source": [
    "rule = Rule(condition=age_cond, action=print_action)\n",
    "rule.add_condition(occupation_cond)"
   ]
  },
  {
   "cell_type": "code",
   "execution_count": 11,
   "metadata": {},
   "outputs": [
    {
     "name": "stdout",
     "output_type": "stream",
     "text": [
      "Name: Barry White Age: 27 Occupation: Software Developer\n"
     ]
    }
   ],
   "source": [
    "rule.evaluate([john, sarah, barry])"
   ]
  },
  {
   "cell_type": "code",
   "execution_count": 12,
   "metadata": {},
   "outputs": [
    {
     "name": "stdout",
     "output_type": "stream",
     "text": [
      "Min second: 1\n"
     ]
    }
   ],
   "source": [
    "minFirst = Condition(name=\"MinCountFirst\", evaluation_function=lambda fact:  True if fact.first != None and fact.second != None and fact.first <= fact.second else False)\n",
    "minSecond = Condition(name=\"MinCountSecond\", evaluation_function=lambda fact:  True if fact.first != None and fact.second != None and  fact.first > fact.second else False)\n",
    "minNone = Condition(name=\"MinCountNone\", evaluation_function=lambda fact:  True if fact.first == None or fact.second == None else False)\n",
    "\n",
    "actionMinFirst = Action(name=\"Return Value\", execution_function=lambda fact: print(\"Min first: {}\".format(fact.first)))\n",
    "actionMinSecond = Action(name=\"Return Value\", execution_function=lambda fact: print(\"Min second: {}\".format(fact.second)))\n",
    "actionMinNone = Action(name=\"Return Value\", execution_function=lambda fact: print(None))\n",
    "\n",
    "fact1 = Fact(first=3, second=1)\n",
    "\n",
    "ruleMinCountFirst = Rule(condition=minFirst, action=actionMinFirst)\n",
    "ruleMinCountSecond = Rule(condition=minSecond, action=actionMinSecond)\n",
    "ruleMinCountNone = Rule(condition=minNone, action=actionMinNone)\n",
    "\n",
    "ruleMinCountFirst.evaluate([fact1])\n",
    "ruleMinCountSecond.evaluate([fact1])\n",
    "ruleMinCountNone.evaluate([fact1])\n",
    "\n",
    "\n"
   ]
  },
  {
   "cell_type": "code",
   "execution_count": 13,
   "metadata": {},
   "outputs": [
    {
     "name": "stdout",
     "output_type": "stream",
     "text": [
      "[3] [] []\n"
     ]
    }
   ],
   "source": [
    "maxFirst = Condition(name=\"MaxCountFirst\", evaluation_function=lambda fact: True if fact.first != None and fact.second != None and fact.first >= fact.second else False)\n",
    "maxSecond = Condition(name=\"MaxCountSecond\", evaluation_function=lambda fact: True if fact.first != None and fact.second != None and fact.first < fact.second else False)\n",
    "maxNone = Condition(name=\"MaxCountNone\", evaluation_function=lambda fact: True if fact.first == None or fact.second == None else False)\n",
    "\n",
    "actionMaxFirst = Action(name=\"Return Value\", execution_function=lambda fact: fact.first)\n",
    "actionMaxSecond = Action(name=\"Return Value\", execution_function=lambda fact: fact.second)\n",
    "actionMaxNone = Action(name=\"Return Value\", execution_function=lambda fact: None)\n",
    "\n",
    "ruleMaxCountFirst = Rule(condition=maxFirst, action=actionMaxFirst)\n",
    "ruleMaxCountSecond = Rule(condition=maxSecond, action=actionMaxSecond)\n",
    "ruleMaxCountNone = Rule(condition=maxNone, action=actionMaxNone)\n",
    "\n",
    "ret1 = ruleMaxCountFirst.evaluate_with_result([fact1])\n",
    "ret2 = ruleMaxCountSecond.evaluate_with_result([fact1])\n",
    "ret3 = ruleMaxCountNone.evaluate_with_result([fact1])\n",
    "\n",
    "print(ret1, ret2, ret3)\n"
   ]
  },
  {
   "cell_type": "code",
   "execution_count": 14,
   "metadata": {},
   "outputs": [
    {
     "name": "stdout",
     "output_type": "stream",
     "text": [
      "Min second: 1\n"
     ]
    }
   ],
   "source": [
    "rule2 = Rule(condition=None, action=None)\n",
    "\n",
    "rule2.evaluate_multiple_rules([fact1], [ruleMinCountFirst, ruleMinCountSecond])"
   ]
  },
  {
   "cell_type": "code",
   "execution_count": 15,
   "metadata": {},
   "outputs": [
    {
     "data": {
      "text/plain": [
       "3"
      ]
     },
     "execution_count": 15,
     "metadata": {},
     "output_type": "execute_result"
    }
   ],
   "source": [
    "res = rule2.evaluate_multiple_rules_with_result([fact1], [ruleMaxCountFirst, ruleMaxCountSecond, ruleMaxCountNone])[0]\n",
    "res"
   ]
  },
  {
   "cell_type": "code",
   "execution_count": 16,
   "metadata": {},
   "outputs": [],
   "source": [
    "fact2 = Fact(first=None, second=1)"
   ]
  },
  {
   "cell_type": "code",
   "execution_count": 17,
   "metadata": {},
   "outputs": [
    {
     "name": "stdout",
     "output_type": "stream",
     "text": [
      "None\n"
     ]
    }
   ],
   "source": [
    "res = rule2.evaluate_multiple_rules_with_result([fact2], [ruleMaxCountFirst, ruleMaxCountSecond, ruleMaxCountNone])[0]\n",
    "print(res)"
   ]
  },
  {
   "cell_type": "code",
   "execution_count": 18,
   "metadata": {},
   "outputs": [
    {
     "name": "stdout",
     "output_type": "stream",
     "text": [
      "None\n"
     ]
    }
   ],
   "source": [
    "rule.evaluate_multiple_rules([fact2], [ruleMinCountFirst, ruleMinCountSecond, ruleMinCountNone])"
   ]
  },
  {
   "cell_type": "code",
   "execution_count": null,
   "metadata": {},
   "outputs": [],
   "source": []
  },
  {
   "cell_type": "code",
   "execution_count": null,
   "metadata": {},
   "outputs": [],
   "source": []
  }
 ],
 "metadata": {
  "kernelspec": {
   "display_name": "3.11.1",
   "language": "python",
   "name": "python3"
  },
  "language_info": {
   "codemirror_mode": {
    "name": "ipython",
    "version": 3
   },
   "file_extension": ".py",
   "mimetype": "text/x-python",
   "name": "python",
   "nbconvert_exporter": "python",
   "pygments_lexer": "ipython3",
   "version": "3.11.1"
  }
 },
 "nbformat": 4,
 "nbformat_minor": 2
}
