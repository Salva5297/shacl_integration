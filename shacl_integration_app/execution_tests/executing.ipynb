{
 "cells": [
  {
   "cell_type": "code",
   "execution_count": 1,
   "metadata": {},
   "outputs": [],
   "source": [
    "import sys\n",
    "# caution: path[0] is reserved for script path (or '' in REPL)\n",
    "sys.path.insert(1, '../')"
   ]
  },
  {
   "cell_type": "code",
   "execution_count": 4,
   "metadata": {},
   "outputs": [],
   "source": [
    "from repository.rule_library.rule_library import Rule_Library\n",
    "from service.rule_engine.fact import Fact"
   ]
  },
  {
   "cell_type": "code",
   "execution_count": 5,
   "metadata": {},
   "outputs": [],
   "source": [
    "rule_library  = Rule_Library()"
   ]
  },
  {
   "cell_type": "code",
   "execution_count": 6,
   "metadata": {},
   "outputs": [],
   "source": [
    "fact = Fact(first=3, second=1)"
   ]
  },
  {
   "cell_type": "code",
   "execution_count": 11,
   "metadata": {},
   "outputs": [
    {
     "name": "stdout",
     "output_type": "stream",
     "text": [
      "[3]\n"
     ]
    }
   ],
   "source": [
    "ret1 = rule_library.unionMaxFirst.evaluate_with_result([fact])\n",
    "ret2 = rule_library.unionMaxSecond.evaluate_with_result([fact])\n",
    "ret3 = rule_library.unionMaxNone.evaluate_with_result([fact])\n",
    "print(ret1)"
   ]
  },
  {
   "cell_type": "code",
   "execution_count": 12,
   "metadata": {},
   "outputs": [
    {
     "name": "stdout",
     "output_type": "stream",
     "text": [
      "[3]\n"
     ]
    }
   ],
   "source": [
    "ret_union_max = rule_library.rule_multiple.evaluate_multiple_rules_with_result([fact], rule_library.unionMaxRules)\n",
    "print(ret_union_max)"
   ]
  },
  {
   "cell_type": "code",
   "execution_count": null,
   "metadata": {},
   "outputs": [
    {
     "name": "stdout",
     "output_type": "stream",
     "text": [
      "[1]\n"
     ]
    }
   ],
   "source": [
    "ret_union_min = rule_library.rule_multiple.evaluate_multiple_rules_with_result([fact], rule_library.unionMinRules)\n",
    "print(ret_union_min)"
   ]
  },
  {
   "cell_type": "code",
   "execution_count": null,
   "metadata": {},
   "outputs": [
    {
     "name": "stdout",
     "output_type": "stream",
     "text": [
      "[1]\n"
     ]
    }
   ],
   "source": [
    "ret_intersection_max = rule_library.rule_multiple.evaluate_multiple_rules_with_result([fact], rule_library.intersectionMaxRules)\n",
    "print(ret_intersection_max)"
   ]
  },
  {
   "cell_type": "code",
   "execution_count": null,
   "metadata": {},
   "outputs": [
    {
     "name": "stdout",
     "output_type": "stream",
     "text": [
      "[3]\n"
     ]
    }
   ],
   "source": [
    "ret_intersection_min = rule_library.rule_multiple.evaluate_multiple_rules_with_result([fact], rule_library.intersectionMinRules)\n",
    "print(ret_intersection_min)"
   ]
  },
  {
   "cell_type": "code",
   "execution_count": null,
   "metadata": {},
   "outputs": [],
   "source": [
    "factNone = Fact(first=None, second=1)"
   ]
  },
  {
   "cell_type": "code",
   "execution_count": null,
   "metadata": {},
   "outputs": [
    {
     "name": "stdout",
     "output_type": "stream",
     "text": [
      "[None]\n"
     ]
    }
   ],
   "source": [
    "ret_union_max = rule_library.rule_multiple.evaluate_multiple_rules_with_result([factNone], rule_library.unionMaxRules)\n",
    "print(ret_union_max)"
   ]
  },
  {
   "cell_type": "code",
   "execution_count": null,
   "metadata": {},
   "outputs": [
    {
     "name": "stdout",
     "output_type": "stream",
     "text": [
      "[None]\n"
     ]
    }
   ],
   "source": [
    "ret_union_min = rule_library.rule_multiple.evaluate_multiple_rules_with_result([factNone], rule_library.unionMinRules)\n",
    "print(ret_union_min)"
   ]
  },
  {
   "cell_type": "code",
   "execution_count": null,
   "metadata": {},
   "outputs": [
    {
     "name": "stdout",
     "output_type": "stream",
     "text": [
      "[1]\n"
     ]
    }
   ],
   "source": [
    "ret_intersection_max = rule_library.rule_multiple.evaluate_multiple_rules_with_result([factNone], rule_library.intersectionMaxRules)\n",
    "print(ret_intersection_max)"
   ]
  },
  {
   "cell_type": "code",
   "execution_count": null,
   "metadata": {},
   "outputs": [
    {
     "name": "stdout",
     "output_type": "stream",
     "text": [
      "[1]\n"
     ]
    }
   ],
   "source": [
    "ret_intersection_min = rule_library.rule_multiple.evaluate_multiple_rules_with_result([factNone], rule_library.intersectionMinRules)\n",
    "print(ret_intersection_min)"
   ]
  },
  {
   "cell_type": "code",
   "execution_count": null,
   "metadata": {},
   "outputs": [
    {
     "name": "stdout",
     "output_type": "stream",
     "text": [
      "[3, None]\n"
     ]
    }
   ],
   "source": [
    "ret_union_max_multiple = rule_library.rule_multiple.evaluate_multiple_rules_with_result([fact, factNone], rule_library.unionMaxRules)\n",
    "print(ret_union_max_multiple)"
   ]
  }
 ],
 "metadata": {
  "kernelspec": {
   "display_name": "3.11.1",
   "language": "python",
   "name": "python3"
  },
  "language_info": {
   "codemirror_mode": {
    "name": "ipython",
    "version": 3
   },
   "file_extension": ".py",
   "mimetype": "text/x-python",
   "name": "python",
   "nbconvert_exporter": "python",
   "pygments_lexer": "ipython3",
   "version": "3.11.1"
  }
 },
 "nbformat": 4,
 "nbformat_minor": 2
}
